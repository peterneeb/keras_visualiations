{
 "cells": [
  {
   "cell_type": "markdown",
   "metadata": {},
   "source": [
    "## Procedure to create a 10*10 Mnist image as overview"
   ]
  },
  {
   "cell_type": "code",
   "execution_count": 2,
   "metadata": {},
   "outputs": [
    {
     "name": "stderr",
     "output_type": "stream",
     "text": [
      "C:\\Users\\peter\\Anaconda3\\lib\\site-packages\\h5py\\__init__.py:34: FutureWarning: Conversion of the second argument of issubdtype from `float` to `np.floating` is deprecated. In future, it will be treated as `np.float64 == np.dtype(float).type`.\n",
      "  from ._conv import register_converters as _register_converters\n",
      "Using TensorFlow backend.\n"
     ]
    }
   ],
   "source": [
    "# Plot ad hoc mnist instances\n",
    "from keras.datasets import mnist\n",
    "import numpy as np\n",
    "import matplotlib.pyplot as plt\n",
    "# load (downloaded if needed) the MNIST dataset\n",
    "(X_train, y_train), (X_test, y_test) = mnist.load_data()\n",
    "for i in range(10):\n",
    "    a = X_train[y_train[:]==i][:10]\n",
    "    a = a.copy()\n",
    "    a = a.reshape((-1,28))\n",
    "    if i == 0:\n",
    "        b = a\n",
    "    else:\n",
    "        b = np.concatenate((b,a), axis=1)\n",
    "plt.imshow(b, cmap=plt.get_cmap('gray'))\n",
    "plt.axis('off')\n",
    "#plt.show()\n",
    "plt.savefig('img/mnist.png')"
   ]
  },
  {
   "cell_type": "markdown",
   "metadata": {},
   "source": [
    "## 4 * 4 image with Exploded MNIST"
   ]
  },
  {
   "cell_type": "code",
   "execution_count": 4,
   "metadata": {
    "collapsed": true
   },
   "outputs": [],
   "source": [
    "import random\n",
    "X_train_img = X_train.reshape((-1,28,28))\n",
    "n = X_train_img.shape[0]\n",
    "X_train2 = np.zeros((n, 80,80))\n",
    "for i in range(n):\n",
    "    col_shift = 40 + random.randint(-39,11)\n",
    "    row_shift = 40 + random.randint(-39,11)\n",
    "    X_train2[i,row_shift:row_shift+28,col_shift:col_shift+28] = X_train_img[i]\n",
    "    \n",
    "for i in range(4):\n",
    "    a = X_train2[y_train[:]==i][:4]\n",
    "    a = a.copy()\n",
    "    a = a.reshape((-1,80))\n",
    "    if i == 0:\n",
    "        b = a\n",
    "    else:\n",
    "        b = np.concatenate((b,a), axis=1)\n",
    "plt.imshow(b, cmap=plt.get_cmap('gray'))\n",
    "plt.axis('off')\n",
    "#plt.show()\n",
    "plt.savefig('img/mnist_exploded.png')"
   ]
  },
  {
   "cell_type": "markdown",
   "metadata": {
    "collapsed": true
   },
   "source": [
    "## Create an 10 * 10 Fashion-MNIST picture"
   ]
  },
  {
   "cell_type": "code",
   "execution_count": 11,
   "metadata": {
    "collapsed": true
   },
   "outputs": [],
   "source": [
    "import numpy\n",
    "# load data\n",
    "import mnist_reader\n",
    "X_train, y_train = mnist_reader.load_mnist('data/fashion', kind='train')\n",
    "\n",
    "import numpy as np\n",
    "import matplotlib.pyplot as plt\n",
    "for i in range(10):\n",
    "    a = X_train[y_train[:]==i][:10]\n",
    "    a = a.copy()\n",
    "    a = a.reshape((-1,28))\n",
    "    if i == 0:\n",
    "        b = a\n",
    "    else:\n",
    "        b = np.concatenate((b,a), axis=1)\n",
    "plt.figure(figsize=(3.841, 5.000), dpi=100)\n",
    "plt.imshow(b, cmap=plt.get_cmap('gray'))\n",
    "ticks = [14+i*28 for i in range(10)]\n",
    "labels = ['T-shirt/top','Trouser','Pullover','Dress','Coat','Sandal','Shirt','Sneaker','Bag','Ankle boot']\n",
    "plt.xticks(ticks,labels,rotation='vertical')\n",
    "cur_axes = plt.gca()\n",
    "cur_axes.axes.get_yaxis().set_visible(False)\n",
    "# plt.show()\n",
    "plt.savefig('img/fashion-mnist.png')"
   ]
  },
  {
   "cell_type": "code",
   "execution_count": null,
   "metadata": {
    "collapsed": true
   },
   "outputs": [],
   "source": []
  }
 ],
 "metadata": {
  "kernelspec": {
   "display_name": "Python 3",
   "language": "python",
   "name": "python3"
  },
  "language_info": {
   "codemirror_mode": {
    "name": "ipython",
    "version": 3
   },
   "file_extension": ".py",
   "mimetype": "text/x-python",
   "name": "python",
   "nbconvert_exporter": "python",
   "pygments_lexer": "ipython3",
   "version": "3.6.4"
  }
 },
 "nbformat": 4,
 "nbformat_minor": 2
}
